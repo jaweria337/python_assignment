{
 "cells": [
  {
   "cell_type": "code",
   "execution_count": 3,
   "metadata": {},
   "outputs": [
    {
     "name": "stdout",
     "output_type": "stream",
     "text": [
      "Car has started\n",
      "A/C is on\n",
      "headlights are on\n",
      "Car has started\n",
      "A/C is on\n",
      "headlights are on\n",
      "Car has started\n",
      "A/C is on\n",
      "headlights are on\n"
     ]
    }
   ],
   "source": [
    "class car:\n",
    "    def running(self):\n",
    "        print(\"Car has started\")\n",
    "    def aircondition(self):\n",
    "        print(\"A/C is on\")\n",
    "    def headlight(self):\n",
    "        print(\"headlights are on\")\n",
    "\n",
    "model = car()\n",
    "color = car()\n",
    "name = car()\n",
    "year = car()\n",
    "make = car()\n",
    "\n",
    "car.running(model)\n",
    "car.aircondition(model)\n",
    "car.headlight(model)\n",
    "\n",
    "car.running(color)\n",
    "car.aircondition(color)\n",
    "car.headlight(color)\n",
    "\n",
    "car.running(year)\n",
    "car.aircondition(year)\n",
    "car.headlight(year)"
   ]
  },
  {
   "cell_type": "code",
   "execution_count": null,
   "metadata": {},
   "outputs": [],
   "source": []
  }
 ],
 "metadata": {
  "kernelspec": {
   "display_name": "Python 3",
   "language": "python",
   "name": "python3"
  },
  "language_info": {
   "codemirror_mode": {
    "name": "ipython",
    "version": 3
   },
   "file_extension": ".py",
   "mimetype": "text/x-python",
   "name": "python",
   "nbconvert_exporter": "python",
   "pygments_lexer": "ipython3",
   "version": "3.7.4"
  }
 },
 "nbformat": 4,
 "nbformat_minor": 2
}
