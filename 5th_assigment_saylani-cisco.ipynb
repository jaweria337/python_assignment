{
 "cells": [
  {
   "cell_type": "code",
   "execution_count": 1,
   "metadata": {},
   "outputs": [
    {
     "name": "stdout",
     "output_type": "stream",
     "text": [
      "Enter a number: 3\n",
      "The factorial of 3 is 6\n"
     ]
    }
   ],
   "source": [
    "num = int(input(\"Enter a number: \"))\n",
    "factorial = 1\n",
    "if num < 0:\n",
    "   print(\"Sorry, factorial does not exist for negative numbers\")\n",
    "elif num == 0:\n",
    "   print(\"The factorial of 0 is 1\")\n",
    "else:\n",
    "   for i in range(1,num + 1):\n",
    "       factorial = factorial*i\n",
    "   print(\"The factorial of\",num,\"is\",factorial)"
   ]
  },
  {
   "cell_type": "code",
   "execution_count": 2,
   "metadata": {},
   "outputs": [
    {
     "name": "stdout",
     "output_type": "stream",
     "text": [
      "Enter string:Pakistan\n",
      "The number of lowercase characters is:\n",
      "7\n",
      "The number of uppercase characters is:\n",
      "1\n"
     ]
    }
   ],
   "source": [
    "string=input(\"Enter string:\")\n",
    "number1=0\n",
    "number2=0\n",
    "for i in string:\n",
    "      if(i.islower()):\n",
    "            number1=number1+1\n",
    "      elif(i.isupper()):\n",
    "            number2=number2+1\n",
    "print(\"The number of lowercase characters is:\")\n",
    "print(number1)\n",
    "print(\"The number of uppercase characters is:\")\n",
    "print(number2)"
   ]
  },
  {
   "cell_type": "code",
   "execution_count": 3,
   "metadata": {},
   "outputs": [
    {
     "name": "stdout",
     "output_type": "stream",
     "text": [
      "[2, 4, 6, 8]\n"
     ]
    }
   ],
   "source": [
    "def is_even_num(l):\n",
    "    enum = []\n",
    "    for n in l:\n",
    "        if n % 2 == 0:\n",
    "            enum.append(n)\n",
    "    return enum\n",
    "print(is_even_num([1, 2, 3, 4, 5, 6, 7, 8, 9]))"
   ]
  },
  {
   "cell_type": "code",
   "execution_count": 4,
   "metadata": {},
   "outputs": [
    {
     "name": "stdout",
     "output_type": "stream",
     "text": [
      "The string is a palindrome.\n"
     ]
    }
   ],
   "source": [
    "my_str = 'aIbohPhoBiA'\n",
    "my_str = my_str.casefold()\n",
    "rev_str = reversed(my_str)\n",
    "if list(my_str) == list(rev_str):\n",
    "   print(\"The string is a palindrome.\")\n",
    "else:\n",
    "   print(\"The string is not a palindrome.\")\n"
   ]
  },
  {
   "cell_type": "code",
   "execution_count": 6,
   "metadata": {},
   "outputs": [
    {
     "name": "stdout",
     "output_type": "stream",
     "text": [
      " true\n",
      " false\n"
     ]
    }
   ],
   "source": [
    "def isPrime(n):\n",
    "    if (n <= 1): \n",
    "        return False\n",
    "    if (n <= 3): \n",
    "        return True\n",
    "    if (n % 2 == 0 or n % 3 == 0): \n",
    "        return False\n",
    "    i = 5\n",
    "    while(i * i <= n) : \n",
    "        if (n % i == 0 or n % (i + 2) == 0): \n",
    "            return False\n",
    "        i = i + 6\n",
    "    return True\n",
    "if (isPrime(11)): \n",
    "    print(\" true\") \n",
    "else : \n",
    "    print(\" false\") \n",
    "      \n",
    "if(isPrime(15)): \n",
    "    print(\" true\") \n",
    "else :  \n",
    "    print(\" false\") "
   ]
  },
  {
   "cell_type": "code",
   "execution_count": 7,
   "metadata": {},
   "outputs": [
    {
     "name": "stdout",
     "output_type": "stream",
     "text": [
      "Enter your budget : 1000\n",
      "1.ADD\n",
      "2.EXIT\n",
      "Enter your choice : shampoo\n",
      "\n",
      "ERROR: Choose only digits from the given option\n",
      "1.ADD\n",
      "2.EXIT\n",
      "Enter your choice : 1\n",
      "Enter product name : lotion\n",
      "Enter quantity : 10\n",
      "Enter price of the product : 100\n",
      "\n",
      "amount left 900.0\n",
      "1.ADD\n",
      "2.EXIT\n",
      "Enter your choice : 2\n",
      "\n",
      "Amount left : Rs. 900.0\n",
      "\n",
      "\n",
      "\n",
      "GROCERY LIST\n",
      "lotion 10 100.0\n"
     ]
    }
   ],
   "source": [
    "while True:\n",
    "    try: \n",
    "        bg = float(input(\"Enter your budget : \"))\n",
    "        s = bg  \n",
    "    except ValueError: \n",
    "        print(\"PRINT NUMBER AS A AMOUNT\") \n",
    "        continue\n",
    "    else: \n",
    "        break\n",
    "a ={\"name\":[], \"quant\":[], \"price\":[]}\n",
    "b = list(a.values())\n",
    "na = b[0]\n",
    "qu = b[1]\n",
    "pr = b[2] \n",
    "while True: \n",
    "    try: \n",
    "        ch = int(input(\"1.ADD\\n2.EXIT\\nEnter your choice : \")) \n",
    "    except ValueError: \n",
    "        print(\"\\nERROR: Choose only digits from the given option\") \n",
    "        continue\n",
    "    else:\n",
    "        if ch == 1 and s>0:   \n",
    "            pn = input(\"Enter product name : \")\n",
    "            q = input(\"Enter quantity : \")\n",
    "            p = float(input(\"Enter price of the product : \"))\n",
    "            if p>s:\n",
    "                print(\"\\nCAN, T BUT THE PRODUCT\")  \n",
    "                continue\n",
    "            else:\n",
    "                if pn in na:\n",
    "                    ind = na.index(pn)\n",
    "                    qu.remove(qu[ind])\n",
    "                    pr.remove(pr[ind])   \n",
    "                    qu.insert(ind, q)\n",
    "                    pr.insert(ind, p)    \n",
    "                    s = bg-sum(pr)\n",
    "                    print(\"\\namount left\", s) \n",
    "                else:\n",
    "                    na.append(pn)\n",
    "                    qu.append(q)\n",
    "                    pr.append(p)     \n",
    "                    s = bg-sum(pr)    \n",
    "                    print(\"\\namount left\", s)\n",
    "        elif s<= 0:  \n",
    "            print(\"\\nNO BUDGET\")  \n",
    "        else: \n",
    "            break \n",
    "print(\"\\nAmount left : Rs.\", s) \n",
    "if s in pr: \n",
    "    print(\"\\nAmount left can buy you a\", na[pr.index(s)])\n",
    "print(\"\\n\\n\\nGROCERY LIST\")\n",
    "for i in range(len(na)):  \n",
    "    print(na[i], qu[i], pr[i]) "
   ]
  },
  {
   "cell_type": "code",
   "execution_count": null,
   "metadata": {},
   "outputs": [],
   "source": []
  }
 ],
 "metadata": {
  "kernelspec": {
   "display_name": "Python 3",
   "language": "python",
   "name": "python3"
  },
  "language_info": {
   "codemirror_mode": {
    "name": "ipython",
    "version": 3
   },
   "file_extension": ".py",
   "mimetype": "text/x-python",
   "name": "python",
   "nbconvert_exporter": "python",
   "pygments_lexer": "ipython3",
   "version": "3.7.4"
  }
 },
 "nbformat": 4,
 "nbformat_minor": 2
}
